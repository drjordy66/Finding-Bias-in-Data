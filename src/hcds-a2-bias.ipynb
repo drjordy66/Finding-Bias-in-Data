{
 "cells": [
  {
   "cell_type": "markdown",
   "metadata": {},
   "source": [
    "# A2: Bias in data\n",
    "## Dane Jordan"
   ]
  },
  {
   "cell_type": "markdown",
   "metadata": {},
   "source": [
    "Import necessary libraries that will be used"
   ]
  },
  {
   "cell_type": "code",
   "execution_count": 1,
   "metadata": {
    "collapsed": true
   },
   "outputs": [],
   "source": [
    "import json\n",
    "import matplotlib.pyplot as plt\n",
    "import pandas as pd\n",
    "import requests\n",
    "\n",
    "%matplotlib inline\n"
   ]
  },
  {
   "cell_type": "markdown",
   "metadata": {},
   "source": [
    "### Getting the article and population data"
   ]
  },
  {
   "cell_type": "code",
   "execution_count": 2,
   "metadata": {
    "collapsed": true
   },
   "outputs": [],
   "source": [
    "# read in the data from the page_data.csv file\n",
    "page_data = pd.read_csv('../data_raw/page_data.csv', dtype={'rev_id': str})\n",
    "\n",
    "# read in the data from the population csv file\n",
    "population_data = pd.read_csv('../data_raw/Population Mid-2015.csv', header=1, thousands=',')\n"
   ]
  },
  {
   "cell_type": "markdown",
   "metadata": {},
   "source": [
    "### Getting article quality predictions"
   ]
  },
  {
   "cell_type": "code",
   "execution_count": 3,
   "metadata": {},
   "outputs": [],
   "source": [
    "# create a list of lists where each nested list contains 100 revids delimited by '|'\n",
    "revid_list = []\n",
    "for i in range(len(page_data)):\n",
    "    if i % 100 == 0:\n",
    "        revid_list.insert(i // 100, [str(page_data['rev_id'][i])])\n",
    "    else:\n",
    "        revid_list[i // 100].append(str(page_data['rev_id'][i]))\n"
   ]
  },
  {
   "cell_type": "code",
   "execution_count": 4,
   "metadata": {},
   "outputs": [
    {
     "name": "stdout",
     "output_type": "stream",
     "text": [
      "There were a total of 2 missing revids. They are as follows: ['807367030', '807367166']\n"
     ]
    }
   ],
   "source": [
    "# initialize a list to store the prediction values\n",
    "predictions = []\n",
    "missing_revid = []\n",
    "\n",
    "# loop through the the revid lists (batches of 100) and call the api\n",
    "for i in range(len(revid_list)):\n",
    "    endpoint = 'https://ores.wikimedia.org/v3/scores/{context}?models={models}&revids={revids}'\n",
    "\n",
    "    params = {'context' : 'enwiki',\n",
    "              'models' : 'wp10',\n",
    "              'revids' : '|'.join(revid_list[i])\n",
    "              }\n",
    "\n",
    "    api_call = requests.get(endpoint.format(**params))\n",
    "\n",
    "    response = api_call.json()\n",
    "    \n",
    "    # loop through the response for the batch of 100 revids and append the prediction to the prediction list\n",
    "    for j in response['enwiki']['scores']:\n",
    "        \n",
    "        # check for missing revids (potentially articles that have been deleted)\n",
    "        try:\n",
    "            predictions.append([j, response['enwiki']['scores'][j]['wp10']['score']['prediction']])\n",
    "            \n",
    "        # if artile is missing, attribute an 'NA' prediction and store the missing revid\n",
    "        except KeyError:\n",
    "            predictions.append([j, 'NA'])\n",
    "            missing_revid.append(j)\n",
    "\n",
    "# print the count and list of missing revids\n",
    "print('There were a total of ' + str(len(missing_revid)) + ' missing revids. They are as follows: ' + str(sorted(missing_revid)))\n"
   ]
  },
  {
   "cell_type": "markdown",
   "metadata": {},
   "source": [
    "### Combining the datasets"
   ]
  },
  {
   "cell_type": "code",
   "execution_count": 14,
   "metadata": {},
   "outputs": [],
   "source": [
    "# convert predictions to a dataframe and add column names\n",
    "predictions_df = pd.DataFrame(predictions)\n",
    "predictions_df.columns = ['revid', 'prediction']\n",
    "\n",
    "# drop duplicates (this was included for the duplicate revids--no longer needed with the updated page_data.csv)\n",
    "predictions_df = predictions_df.drop_duplicates()\n",
    "\n",
    "# merge the predictions with the page_data\n",
    "page_data_new = page_data.merge(predictions_df, how='left', left_on='rev_id', right_on='revid')\n",
    "page_data_new = page_data_new.drop('revid', axis=1)\n",
    "\n",
    "# merge the two data sets (page_data_new and population_data) and add specified column names\n",
    "combined_data = page_data_new.merge(population_data[['Location', 'Data']], left_on='country', right_on='Location')\n",
    "combined_data = combined_data.drop('Location', axis=1)\n",
    "combined_data.columns = ['article_name', 'country', 'revision_id', 'article_quality', 'population']\n",
    "\n",
    "# output file to csv\n",
    "combined_data.to_csv('../data_clean/combined_data.csv', index=False)\n"
   ]
  },
  {
   "cell_type": "markdown",
   "metadata": {},
   "source": [
    "### Analysis"
   ]
  },
  {
   "cell_type": "code",
   "execution_count": 27,
   "metadata": {
    "collapsed": true
   },
   "outputs": [],
   "source": [
    "# identify all of the countries (removing duplicates)\n",
    "country = combined_data['country'].unique()\n",
    "\n",
    "# count the total number of articles (NOTE: this includes articles with missing revids from the api call) per country\n",
    "num_articles = combined_data.groupby('country')['article_name'].count()\n",
    "\n",
    "#  count the number of 'high-quality' articles per country\n",
    "hq_articles = combined_data[(combined_data['article_quality'] == 'FA') |\n",
    "                            (combined_data['article_quality'] == 'GA')\n",
    "                           ].groupby('country')['article_quality'].count().reindex(list(country), fill_value=0)\n",
    "\n",
    "# get the population per country\n",
    "population = combined_data.groupby('country')['population'].max()\n",
    "\n",
    "# calculate the two 'analysis' variables:\n",
    "# 1. proportion (as a percentage) of articles-per-population for each country\n",
    "# 2. proportion (as a percentage) of high-quality articles for each country\n",
    "articles_per_population = 100*(num_articles / population)\n",
    "percentage_hq_articles = 100*(hq_articles/num_articles)\n",
    "\n",
    "# combine thee two 'analysis' variables into a dataframe\n",
    "analysis = pd.DataFrame({'country': country.tolist(),\n",
    "                         'articles_per_population': articles_per_population.tolist(),\n",
    "                         'percentage_hq_articles': percentage_hq_articles.tolist()\n",
    "                        })\n",
    "\n",
    "# reorder the columns in the dataframe\n",
    "analysis = analysis[['country', 'articles_per_population', 'percentage_hq_articles']]\n"
   ]
  },
  {
   "cell_type": "markdown",
   "metadata": {},
   "source": [
    "### Visualization"
   ]
  },
  {
   "cell_type": "code",
   "execution_count": 19,
   "metadata": {
    "collapsed": true
   },
   "outputs": [],
   "source": [
    "# sort the analysis dataframe based on the key attributes and only return the first 10\n",
    "viz1 = analysis.sort_values('articles_per_population', ascending=False)[['country', 'articles_per_population']][0:10]\n",
    "viz2 = analysis.sort_values('articles_per_population')[['country', 'articles_per_population']][0:10]\n",
    "viz3 = analysis.sort_values('percentage_hq_articles', ascending=False)[['country', 'percentage_hq_articles']][0:10]\n",
    "\n",
    "# this visualization will be handled as a list, since there are more than 10 countries with no high-quality articles\n",
    "viz4 = analysis[analysis['percentage_hq_articles'] == 0][['country', 'percentage_hq_articles']]\n"
   ]
  },
  {
   "cell_type": "code",
   "execution_count": 31,
   "metadata": {
    "scrolled": false
   },
   "outputs": [
    {
     "data": {
      "text/plain": [
       "<matplotlib.text.Text at 0x192b9819080>"
      ]
     },
     "execution_count": 31,
     "metadata": {},
     "output_type": "execute_result"
    },
    {
     "data": {
      "image/png": "[encoded data removed]",
      "text/plain": [
       "<matplotlib.figure.Figure at 0x192b922de80>"
      ]
     },
     "metadata": {},
     "output_type": "display_data"
    },
    {
     "data": {
      "image/png": "[encoded data removed]",
      "text/plain": [
       "<matplotlib.figure.Figure at 0x192b9239080>"
      ]
     },
     "metadata": {},
     "output_type": "display_data"
    },
    {
     "data": {
      "image/png": "[encoded data removed]",
      "text/plain": [
       "<matplotlib.figure.Figure at 0x192b88af550>"
      ]
     },
     "metadata": {},
     "output_type": "display_data"
    }
   ],
   "source": [
    "# create bar plots for the first three visualizations\n",
    "ax = viz1.plot(x=viz1['country'], kind='bar', figsize=(16, 8), title='10 highest-ranked countries in terms of number of politician articles as a proportion of country population', legend=False)\n",
    "ax.set_xlabel('country')\n",
    "ax.set_ylabel('articles per population (%)')\n",
    "ax = viz2.plot(x=viz2['country'], kind='bar', figsize=(16, 8), title='10 lowest-ranked countries in terms of number of politician articles as a proportion of country population', legend=False)\n",
    "ax.set_xlabel('country')\n",
    "ax.set_ylabel('articles per population (%)')\n",
    "ax = viz3.plot(x=viz3['country'], kind='bar', figsize=(16, 8), title='10 highest-ranked countries in terms of number of GA and FA-quality articles as a proportion of all articles about politicians from that country', legend=False)\n",
    "ax.set_xlabel('country')\n",
    "ax.set_ylabel('high-quality articles (%)')\n"
   ]
  },
  {
   "cell_type": "code",
   "execution_count": 41,
   "metadata": {},
   "outputs": [
    {
     "name": "stdout",
     "output_type": "stream",
     "text": [
      "10 lowest-ranked countries in terms of number of GA and FA-quality articles as a proportion of all articles about politicians from that country\n"
     ]
    },
    {
     "data": {
      "text/html": [
       "<div>\n",
       "<table border=\"1\" class=\"dataframe\">\n",
       "  <thead>\n",
       "    <tr style=\"text-align: right;\">\n",
       "      <th></th>\n",
       "      <th>country</th>\n",
       "      <th>percentage_hq_articles</th>\n",
       "    </tr>\n",
       "  </thead>\n",
       "  <tbody>\n",
       "    <tr>\n",
       "      <th>0</th>\n",
       "      <td>Uganda</td>\n",
       "      <td>0.0</td>\n",
       "    </tr>\n",
       "    <tr>\n",
       "      <th>1</th>\n",
       "      <td>Nigeria</td>\n",
       "      <td>0.0</td>\n",
       "    </tr>\n",
       "    <tr>\n",
       "      <th>2</th>\n",
       "      <td>Somalia</td>\n",
       "      <td>0.0</td>\n",
       "    </tr>\n",
       "    <tr>\n",
       "      <th>3</th>\n",
       "      <td>Cambodia</td>\n",
       "      <td>0.0</td>\n",
       "    </tr>\n",
       "    <tr>\n",
       "      <th>4</th>\n",
       "      <td>Slovenia</td>\n",
       "      <td>0.0</td>\n",
       "    </tr>\n",
       "    <tr>\n",
       "      <th>5</th>\n",
       "      <td>Iraq</td>\n",
       "      <td>0.0</td>\n",
       "    </tr>\n",
       "    <tr>\n",
       "      <th>6</th>\n",
       "      <td>Nepal</td>\n",
       "      <td>0.0</td>\n",
       "    </tr>\n",
       "    <tr>\n",
       "      <th>7</th>\n",
       "      <td>Burkina Faso</td>\n",
       "      <td>0.0</td>\n",
       "    </tr>\n",
       "    <tr>\n",
       "      <th>8</th>\n",
       "      <td>Indonesia</td>\n",
       "      <td>0.0</td>\n",
       "    </tr>\n",
       "    <tr>\n",
       "      <th>9</th>\n",
       "      <td>Ghana</td>\n",
       "      <td>0.0</td>\n",
       "    </tr>\n",
       "    <tr>\n",
       "      <th>10</th>\n",
       "      <td>Iran</td>\n",
       "      <td>0.0</td>\n",
       "    </tr>\n",
       "    <tr>\n",
       "      <th>11</th>\n",
       "      <td>Philippines</td>\n",
       "      <td>0.0</td>\n",
       "    </tr>\n",
       "    <tr>\n",
       "      <th>12</th>\n",
       "      <td>Greece</td>\n",
       "      <td>0.0</td>\n",
       "    </tr>\n",
       "    <tr>\n",
       "      <th>13</th>\n",
       "      <td>Moldova</td>\n",
       "      <td>0.0</td>\n",
       "    </tr>\n",
       "    <tr>\n",
       "      <th>14</th>\n",
       "      <td>Denmark</td>\n",
       "      <td>0.0</td>\n",
       "    </tr>\n",
       "    <tr>\n",
       "      <th>15</th>\n",
       "      <td>Belgium</td>\n",
       "      <td>0.0</td>\n",
       "    </tr>\n",
       "    <tr>\n",
       "      <th>16</th>\n",
       "      <td>Bulgaria</td>\n",
       "      <td>0.0</td>\n",
       "    </tr>\n",
       "    <tr>\n",
       "      <th>17</th>\n",
       "      <td>Australia</td>\n",
       "      <td>0.0</td>\n",
       "    </tr>\n",
       "    <tr>\n",
       "      <th>18</th>\n",
       "      <td>Lebanon</td>\n",
       "      <td>0.0</td>\n",
       "    </tr>\n",
       "    <tr>\n",
       "      <th>19</th>\n",
       "      <td>Ireland</td>\n",
       "      <td>0.0</td>\n",
       "    </tr>\n",
       "    <tr>\n",
       "      <th>20</th>\n",
       "      <td>Kyrgyzstan</td>\n",
       "      <td>0.0</td>\n",
       "    </tr>\n",
       "    <tr>\n",
       "      <th>21</th>\n",
       "      <td>Turkmenistan</td>\n",
       "      <td>0.0</td>\n",
       "    </tr>\n",
       "    <tr>\n",
       "      <th>22</th>\n",
       "      <td>Malta</td>\n",
       "      <td>0.0</td>\n",
       "    </tr>\n",
       "    <tr>\n",
       "      <th>23</th>\n",
       "      <td>Ethiopia</td>\n",
       "      <td>0.0</td>\n",
       "    </tr>\n",
       "    <tr>\n",
       "      <th>24</th>\n",
       "      <td>Senegal</td>\n",
       "      <td>0.0</td>\n",
       "    </tr>\n",
       "    <tr>\n",
       "      <th>25</th>\n",
       "      <td>United Kingdom</td>\n",
       "      <td>0.0</td>\n",
       "    </tr>\n",
       "    <tr>\n",
       "      <th>26</th>\n",
       "      <td>Botswana</td>\n",
       "      <td>0.0</td>\n",
       "    </tr>\n",
       "    <tr>\n",
       "      <th>27</th>\n",
       "      <td>Guyana</td>\n",
       "      <td>0.0</td>\n",
       "    </tr>\n",
       "    <tr>\n",
       "      <th>28</th>\n",
       "      <td>Liechtenstein</td>\n",
       "      <td>0.0</td>\n",
       "    </tr>\n",
       "    <tr>\n",
       "      <th>29</th>\n",
       "      <td>Singapore</td>\n",
       "      <td>0.0</td>\n",
       "    </tr>\n",
       "    <tr>\n",
       "      <th>30</th>\n",
       "      <td>Kazakhstan</td>\n",
       "      <td>0.0</td>\n",
       "    </tr>\n",
       "    <tr>\n",
       "      <th>31</th>\n",
       "      <td>Latvia</td>\n",
       "      <td>0.0</td>\n",
       "    </tr>\n",
       "    <tr>\n",
       "      <th>32</th>\n",
       "      <td>Suriname</td>\n",
       "      <td>0.0</td>\n",
       "    </tr>\n",
       "    <tr>\n",
       "      <th>33</th>\n",
       "      <td>Martinique</td>\n",
       "      <td>0.0</td>\n",
       "    </tr>\n",
       "    <tr>\n",
       "      <th>34</th>\n",
       "      <td>Lesotho</td>\n",
       "      <td>0.0</td>\n",
       "    </tr>\n",
       "    <tr>\n",
       "      <th>35</th>\n",
       "      <td>Bahrain</td>\n",
       "      <td>0.0</td>\n",
       "    </tr>\n",
       "    <tr>\n",
       "      <th>36</th>\n",
       "      <td>Kuwait</td>\n",
       "      <td>0.0</td>\n",
       "    </tr>\n",
       "    <tr>\n",
       "      <th>37</th>\n",
       "      <td>Central African Republic</td>\n",
       "      <td>0.0</td>\n",
       "    </tr>\n",
       "    <tr>\n",
       "      <th>38</th>\n",
       "      <td>Belize</td>\n",
       "      <td>0.0</td>\n",
       "    </tr>\n",
       "  </tbody>\n",
       "</table>\n",
       "</div>"
      ],
      "text/plain": [
       "                     country  percentage_hq_articles\n",
       "0                     Uganda                     0.0\n",
       "1                    Nigeria                     0.0\n",
       "2                    Somalia                     0.0\n",
       "3                   Cambodia                     0.0\n",
       "4                   Slovenia                     0.0\n",
       "5                       Iraq                     0.0\n",
       "6                      Nepal                     0.0\n",
       "7               Burkina Faso                     0.0\n",
       "8                  Indonesia                     0.0\n",
       "9                      Ghana                     0.0\n",
       "10                      Iran                     0.0\n",
       "11               Philippines                     0.0\n",
       "12                    Greece                     0.0\n",
       "13                   Moldova                     0.0\n",
       "14                   Denmark                     0.0\n",
       "15                   Belgium                     0.0\n",
       "16                  Bulgaria                     0.0\n",
       "17                 Australia                     0.0\n",
       "18                   Lebanon                     0.0\n",
       "19                   Ireland                     0.0\n",
       "20                Kyrgyzstan                     0.0\n",
       "21              Turkmenistan                     0.0\n",
       "22                     Malta                     0.0\n",
       "23                  Ethiopia                     0.0\n",
       "24                   Senegal                     0.0\n",
       "25            United Kingdom                     0.0\n",
       "26                  Botswana                     0.0\n",
       "27                    Guyana                     0.0\n",
       "28             Liechtenstein                     0.0\n",
       "29                 Singapore                     0.0\n",
       "30                Kazakhstan                     0.0\n",
       "31                    Latvia                     0.0\n",
       "32                  Suriname                     0.0\n",
       "33                Martinique                     0.0\n",
       "34                   Lesotho                     0.0\n",
       "35                   Bahrain                     0.0\n",
       "36                    Kuwait                     0.0\n",
       "37  Central African Republic                     0.0\n",
       "38                    Belize                     0.0"
      ]
     },
     "execution_count": 41,
     "metadata": {},
     "output_type": "execute_result"
    }
   ],
   "source": [
    "# create a table for the fourth visualization\n",
    "print('10 lowest-ranked countries in terms of number of GA and FA-quality articles as a proportion of all articles about politicians from that country')\n",
    "viz4.reset_index(drop=True)\n"
   ]
  },
  {
   "cell_type": "markdown",
   "metadata": {},
   "source": [
    "### Writeup"
   ]
  },
  {
   "cell_type": "code",
   "execution_count": null,
   "metadata": {
    "collapsed": true
   },
   "outputs": [],
   "source": []
  }
 ],
 "metadata": {
  "kernelspec": {
   "display_name": "Python 3",
   "language": "python",
   "name": "python3"
  },
  "language_info": {
   "codemirror_mode": {
    "name": "ipython",
    "version": 3
   },
   "file_extension": ".py",
   "mimetype": "text/x-python",
   "name": "python",
   "nbconvert_exporter": "python",
   "pygments_lexer": "ipython3",
   "version": "3.5.2"
  }
 },
 "nbformat": 4,
 "nbformat_minor": 2
}
