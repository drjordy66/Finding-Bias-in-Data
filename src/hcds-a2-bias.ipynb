{
 "cells": [
  {
   "cell_type": "markdown",
   "metadata": {},
   "source": [
    "# A2: Bias in data\n",
    "## Dane Jordan"
   ]
  },
  {
   "cell_type": "markdown",
   "metadata": {},
   "source": [
    "Import necessary libraries that will be used"
   ]
  },
  {
   "cell_type": "code",
   "execution_count": 1,
   "metadata": {
    "collapsed": true
   },
   "outputs": [],
   "source": [
    "import json\n",
    "import matplotlib.pyplot as plt\n",
    "import pandas as pd\n",
    "import requests\n",
    "\n",
    "%matplotlib inline\n"
   ]
  },
  {
   "cell_type": "markdown",
   "metadata": {},
   "source": [
    "### Getting the article and population data\n",
    "The wikipedia article dataset, \"Politicians by Country from the English-language Wikipedia,\" was obtained from Figshare on 10/29/2017. It was downloaded as a zipped folder and the `page_data.csv` was extracted from /country/data.\n",
    "\n",
    "https://figshare.com/articles/Untitled_Item/5513449\n",
    "\n",
    "- CC-BY 4.0\n",
    "\n",
    "The population dataset, \"Population Mid-2015,\" was obtained from the Population Reference Bureau on 10/27/2017. The link for this data is NOT provided and it is NOT included in the repository as it is copyrighted.\n",
    "\n",
    "- Copyright © 2016, Population Reference Bureau. All rights reserved.\n",
    "\n",
    "The two datasets are read into pandas DataFrames below. The revid for the wikipedia article dataset is set to be a string for merging purposes later on. The population dataset excludes the first line which is a title for the dataset and removes all commas in numbers (population counts)."
   ]
  },
  {
   "cell_type": "code",
   "execution_count": 2,
   "metadata": {},
   "outputs": [],
   "source": [
    "# read in the data from the page_data.csv file\n",
    "page_data = pd.read_csv('../data_raw/page_data.csv', dtype={'rev_id': str})\n",
    "\n",
    "# read in the data from the population csv file\n",
    "population_data = pd.read_csv('../data_raw/Population Mid-2015.csv', header=1, thousands=',')\n"
   ]
  },
  {
   "cell_type": "markdown",
   "metadata": {},
   "source": [
    "### Getting article quality predictions using ORES\n",
    "Data was gathered from the ORES (Objective Revision Evaluation Service) API, 2017. It was obtained on 10/29/2017. While no license was found on ORES, it has been attributed to the same license as the Wikimedia Foundation.\n",
    "\n",
    "https://wikimediafoundation.org/wiki/Terms_of_Use/en\n",
    "\n",
    "- CC-BY-SA 3.0\n",
    "\n",
    "Passing the rev_ids through the ORES API, could be done individually or in batches. Based on the number of calls to the API, it is much quicker to batch the revids, however, the API only accepts a certain number of revids per call. After some trial and error, the acceptable number of revids seemed to be anything less than 140. For safety the revids were batched in groups of 100. Below a list of lists is created where each nested list contains 100 revids."
   ]
  },
  {
   "cell_type": "code",
   "execution_count": 3,
   "metadata": {
    "collapsed": true
   },
   "outputs": [],
   "source": [
    "# create a list of lists where each nested list contains 100 revids delimited by '|'\n",
    "revid_list = []\n",
    "for i in range(len(page_data)):\n",
    "    if i % 100 == 0:\n",
    "        revid_list.insert(i // 100, [str(page_data['rev_id'][i])])\n",
    "    else:\n",
    "        revid_list[i // 100].append(str(page_data['rev_id'][i]))\n"
   ]
  },
  {
   "cell_type": "markdown",
   "metadata": {},
   "source": [
    "Next, two lists are created. One to store the article quality prediction and another to account for any missing revids. This was implemented after the wikipedia article dataset was updated and the ORES API call returned an error--debugging yielded the addition.\n",
    "\n",
    "The revid list created above is then looped such that the API is sent a request with a batch of 100 revids. After each API call, the response is looped and each revid is parsed to obtain the prediction. That prediction is appended, as well as the revid, to the predictions list. If no prediction is found and a KeyError is returned, an 'NA' along with the revid is appended to the predictions list and the revid alone is appended to the missing revids list.\n",
    "\n",
    "__NOTE: At the time the API was called and the cleaned dataset was created only two revids were missing. The ORES API call has been rerun since this time and is now showing more missing revids. The cleaned dataset is imported in a later step, and was created using the ORES API response from 10/29/2017.__"
   ]
  },
  {
   "cell_type": "code",
   "execution_count": 4,
   "metadata": {},
   "outputs": [
    {
     "name": "stdout",
     "output_type": "stream",
     "text": [
      "There were a total of 4 missing revids. They are as follows: ['806811023', '807367030', '807367166', '807484325']\n"
     ]
    }
   ],
   "source": [
    "# initialize a list to store the prediction values\n",
    "predictions = []\n",
    "missing_revid = []\n",
    "\n",
    "# loop through the the revid lists (batches of 100) and call the api\n",
    "for i in range(len(revid_list)):\n",
    "    endpoint = 'https://ores.wikimedia.org/v3/scores/{context}?models={models}&revids={revids}'\n",
    "\n",
    "    params = {'context' : 'enwiki',\n",
    "              'models' : 'wp10',\n",
    "              'revids' : '|'.join(revid_list[i])\n",
    "              }\n",
    "\n",
    "    api_call = requests.get(endpoint.format(**params))\n",
    "\n",
    "    response = api_call.json()\n",
    "    \n",
    "    # loop through the response for the batch of 100 revids and append the prediction to the prediction list\n",
    "    for j in response['enwiki']['scores']:\n",
    "        \n",
    "        # check for missing revids (potentially articles that have been deleted)\n",
    "        try:\n",
    "            predictions.append([j, response['enwiki']['scores'][j]['wp10']['score']['prediction']])\n",
    "            \n",
    "        # if artile is missing, attribute an 'NA' prediction and store the missing revid\n",
    "        except KeyError:\n",
    "            predictions.append([j, 'NA'])\n",
    "            missing_revid.append(j)\n",
    "\n",
    "# print the count and list of missing revids\n",
    "print('There were a total of ' + str(len(missing_revid)) + ' missing revids. They are as follows: ' + str(sorted(missing_revid)))\n"
   ]
  },
  {
   "cell_type": "markdown",
   "metadata": {},
   "source": [
    "### Combining the datasets\n",
    "The predictions obtained from ORES are loaded into a pandas DataFrame with column names added. Duplicate revids were originally dropped from this DataFrame prior to the wikipedia article dataset being updated. The predictions obtained from ORES and the page_data obtained from Figshare are then merged on the revid, essentially appending the article quality prediction to the page_data. This new page_data is then merged with the population dataset on the country/Location ('country' is the attribute name in page_data and 'Location' is the attribute name in population_data) to obtain a cleaned dataset that is in the below format:\n",
    "\n",
    "column name | value\n",
    "--- | ---\n",
    "country | str\n",
    "article_name | str\n",
    "revision_id | str\n",
    "article_quality | str\n",
    "population | str"
   ]
  },
  {
   "cell_type": "code",
   "execution_count": 5,
   "metadata": {
    "collapsed": true
   },
   "outputs": [],
   "source": [
    "# convert predictions to a dataframe and add column names\n",
    "predictions_df = pd.DataFrame(predictions)\n",
    "predictions_df.columns = ['revid', 'prediction']\n",
    "\n",
    "# drop duplicates (this was included for the duplicate revids--no longer needed with the updated page_data.csv)\n",
    "predictions_df = predictions_df.drop_duplicates()\n",
    "\n",
    "# merge the predictions with the page_data\n",
    "page_data_new = page_data.merge(predictions_df, how='left', left_on='rev_id', right_on='revid')\n",
    "page_data_new = page_data_new.drop('revid', axis=1)\n",
    "\n",
    "# merge the two data sets (page_data_new and population_data), add specified column names, and reorder columns\n",
    "combined_data = page_data_new.merge(population_data[['Location', 'Data']], left_on='country', right_on='Location')\n",
    "combined_data = combined_data.drop('Location', axis=1)\n",
    "combined_data.columns = ['article_name', 'country', 'revision_id', 'article_quality', 'population']\n",
    "combined_data = combined_data[['country', 'article_name', 'revision_id', 'article_quality', 'population']]\n",
    "\n",
    "# output file to csv\n",
    "# combined_data.to_csv('../data_clean/combined_data.csv', index=False)\n"
   ]
  },
  {
   "cell_type": "markdown",
   "metadata": {},
   "source": [
    "### Analysis\n",
    "So as to reproduce the analysis, the cleaned data is loaded from a saved static file. The analysis could potentially change depending on data sources from earlier, such as noted regarding the ORES API response.\n",
    "\n",
    "First all of the countries are identified and duplicates are removed. Then the number of articles for each country are counted using a `groupby` (__NOTE: This includes articles with missing revids from the API call__). Next, the high-quality articles are returned in a similar fashion, again listing the country and the count, with countries that have no high-quality articles having a '0' for the count. The population for each country is obtained by using a `groupby` and retrieving the `max` which is also the `min`, but since there is only one possible population value assigned to each country, this does not matter.\n",
    "\n",
    "Now that the data has been obtained in a per country format, the simple calculation is performed for articles per population and percentage of high-quality articles for each country and loaded into an analysis DataFrame with the following structure:\n",
    "\n",
    "column name | value\n",
    "--- | ---\n",
    "country | str\n",
    "articles_per_population | int\n",
    "percentage_hq_articles | int"
   ]
  },
  {
   "cell_type": "code",
   "execution_count": 6,
   "metadata": {
    "scrolled": false
   },
   "outputs": [],
   "source": [
    "# load the cleaned data\n",
    "combined_data = pd.read_csv('../data_clean/combined_data.csv',\n",
    "                            dtype={'revision_id': str},\n",
    "                            encoding='ISO-8859-1')\n",
    "\n",
    "# identify all of the countries (removing duplicates)\n",
    "country = pd.DataFrame({'country': sorted(combined_data['country'].unique())})\n",
    "\n",
    "# count the total number of articles (NOTE: this includes articles with missing revids from the api call) per country\n",
    "num_articles = combined_data.groupby('country')['article_name'].count().reset_index()\n",
    "num_articles.columns = ['country', 'count']\n",
    "\n",
    "#  count the number of 'high-quality' articles per country\n",
    "hq_articles = combined_data[(combined_data['article_quality'] == 'FA') |\n",
    "                            (combined_data['article_quality'] == 'GA')\n",
    "                           ].groupby('country')['article_quality'].count()\n",
    "hq_articles = hq_articles.reindex(country['country'], fill_value=0).reset_index()\n",
    "hq_articles.columns = ['country', 'count']\n",
    "\n",
    "# get the population per country\n",
    "population = combined_data.groupby('country')['population'].max().reset_index()\n",
    "\n",
    "# calculate the two 'analysis' variables:\n",
    "# 1. proportion (as a percentage) of articles-per-population for each country\n",
    "# 2. proportion (as a percentage) of high-quality articles for each country\n",
    "articles_per_population = pd.DataFrame({'country': country['country'],\n",
    "                                        'percentage': 100*(num_articles['count'] / population['population'])})\n",
    "percentage_hq_articles = pd.DataFrame({'country': country['country'],\n",
    "                                       'percentage': 100*(hq_articles['count'] / num_articles['count'])})\n",
    "\n",
    "# combine the two 'analysis' variables into a dataframe\n",
    "analysis = pd.DataFrame({'country': country['country'],\n",
    "                         'articles_per_population': articles_per_population['percentage'],\n",
    "                         'percentage_hq_articles': percentage_hq_articles['percentage']\n",
    "                        })\n",
    "\n",
    "# reorder the columns in the dataframe\n",
    "analysis = analysis[['country', 'articles_per_population', 'percentage_hq_articles']]\n"
   ]
  },
  {
   "cell_type": "markdown",
   "metadata": {},
   "source": [
    "### Tables\n",
    "The following function converts a 2-column pandas DataFrame into a markdown style table for easy implementation on github or any other markdown environment."
   ]
  },
  {
   "cell_type": "code",
   "execution_count": 7,
   "metadata": {
    "collapsed": true
   },
   "outputs": [],
   "source": [
    "def convert_table_markdown(df, filename):\n",
    "    \n",
    "    '''\n",
    "    This function takes in a 2-column dataframe and converts it into a markdown table\n",
    "    :param df: pandas dataframe\n",
    "    :param filename: str saved file name\n",
    "    '''\n",
    "    \n",
    "    df_table = df.columns[0] + ' | ' + df.columns[1] + ' (%)' + '\\n---' + ' | ' + '---'\n",
    "    for i in range(len(df)):\n",
    "        df_table += '\\n' + df[df.columns[0]][i] + ' | ' + '%f' % round(df[df.columns[1]][i], 6) + '%'\n",
    "    \n",
    "    df_markdown = open('../analysis/' + filename + '.txt', 'w')\n",
    "    df_markdown.write(df_table)\n",
    "    df_markdown.close()\n"
   ]
  },
  {
   "cell_type": "markdown",
   "metadata": {},
   "source": [
    "Here the four visualizations are created by sorting the analysis DataFrame, either ascending or descending depending on if it is for the highest-10 or lowest-10, and keeping only those first 10 records.\n",
    "\n",
    "__NOTE: Upon performing this operation it was seen that there were more than 10 countries with 0.00% high-quality articles. As such, a bar graph representation of these would not be useful and instead a list was created. Also, as all 10 showed 0.00%, the analysis was performed in such a way that it listed all countries with 0.00% high-quality article percentage so as not to give favor to particular countries.__"
   ]
  },
  {
   "cell_type": "code",
   "execution_count": 8,
   "metadata": {
    "collapsed": true
   },
   "outputs": [],
   "source": [
    "# sort the analysis dataframe based on the key attributes and only return the first 10\n",
    "viz1 = analysis.sort_values('articles_per_population', ascending=False)[['country', 'articles_per_population']][0:10].reset_index(drop=True)\n",
    "viz2 = analysis.sort_values('articles_per_population')[['country', 'articles_per_population']][0:10].reset_index(drop=True)\n",
    "viz3 = analysis.sort_values('percentage_hq_articles', ascending=False)[['country', 'percentage_hq_articles']][0:10].reset_index(drop=True)\n",
    "\n",
    "# this visualization will be handled only as a table, since there are more than 10 countries with no high-quality articles\n",
    "viz4 = analysis[analysis['percentage_hq_articles'] == 0][['country', 'percentage_hq_articles']].sort_values('country').reset_index(drop=True)\n",
    "\n",
    "# convert visualizaions to a markdown style tables (text files to be included in analysis README.md)\n",
    "# convert_table_markdown(viz1, 'viz1')\n",
    "# convert_table_markdown(viz2, 'viz2')\n",
    "# convert_table_markdown(viz3, 'viz3')\n",
    "# convert_table_markdown(viz4, 'viz4')\n"
   ]
  },
  {
   "cell_type": "markdown",
   "metadata": {},
   "source": [
    "The bar plots were included as they has already been created prior to the update that they were not necessary for the purposes of the assignment."
   ]
  },
  {
   "cell_type": "code",
   "execution_count": 9,
   "metadata": {
    "scrolled": false
   },
   "outputs": [
    {
     "data": {
      "image/png": "[encoded data removed]",
      "text/plain": [
       "<matplotlib.figure.Figure at 0x1de16d7f780>"
      ]
     },
     "metadata": {},
     "output_type": "display_data"
    },
    {
     "data": {
      "image/png": "[encoded data removed]",
      "text/plain": [
       "<matplotlib.figure.Figure at 0x1de1712c358>"
      ]
     },
     "metadata": {},
     "output_type": "display_data"
    },
    {
     "data": {
      "image/png": "[encoded data removed]",
      "text/plain": [
       "<matplotlib.figure.Figure at 0x1de171afe10>"
      ]
     },
     "metadata": {},
     "output_type": "display_data"
    }
   ],
   "source": [
    "# create bar plots for the first three visualizations and save the images\n",
    "\n",
    "ax1 = viz1.plot(x='country', kind='bar', figsize=(16, 12), legend=False, fontsize=14)\n",
    "plt.title('10 highest-ranked countries in terms of number of politician articles as a proportion of country population', fontsize=16)\n",
    "plt.xlabel('country', fontsize=14)\n",
    "plt.ylabel('articles per population (%)', fontsize=14)\n",
    "plt.tight_layout()\n",
    "# plt.savefig('../analysis/viz1.png')\n",
    "\n",
    "ax2 = viz2.plot(x='country', kind='bar', figsize=(16, 12), legend=False, fontsize=14)\n",
    "plt.title('10 lowest-ranked countries in terms of number of politician articles as a proportion of country population', fontsize=16)\n",
    "plt.xlabel('country', fontsize=14)\n",
    "plt.ylabel('articles per population (%)', fontsize=14)\n",
    "plt.tight_layout()\n",
    "# plt.savefig('../analysis/viz2.png')\n",
    "\n",
    "ax3 = viz3.plot(x='country', kind='bar', figsize=(16, 12), legend=False, fontsize=14)\n",
    "plt.title('10 highest-ranked countries in terms of number of high-quality (GA/FA) articles\\n'\n",
    "          'as a proportion of all articles about politicians from that country', fontsize=16)\n",
    "plt.xlabel('country', fontsize=14)\n",
    "plt.ylabel('high-quality articles (%)', fontsize=14)\n",
    "plt.tight_layout()\n",
    "# plt.savefig('../analysis/viz3.png')\n"
   ]
  },
  {
   "cell_type": "markdown",
   "metadata": {},
   "source": [
    "#### 10 highest-ranked countries in terms of number of politician articles as a proportion of country population"
   ]
  },
  {
   "cell_type": "code",
   "execution_count": 11,
   "metadata": {},
   "outputs": [
    {
     "data": {
      "text/html": [
       "<div>\n",
       "<table border=\"1\" class=\"dataframe\">\n",
       "  <thead>\n",
       "    <tr style=\"text-align: right;\">\n",
       "      <th></th>\n",
       "      <th>country</th>\n",
       "      <th>articles_per_population</th>\n",
       "    </tr>\n",
       "  </thead>\n",
       "  <tbody>\n",
       "    <tr>\n",
       "      <th>0</th>\n",
       "      <td>Nauru</td>\n",
       "      <td>0.488029</td>\n",
       "    </tr>\n",
       "    <tr>\n",
       "      <th>1</th>\n",
       "      <td>Tuvalu</td>\n",
       "      <td>0.466102</td>\n",
       "    </tr>\n",
       "    <tr>\n",
       "      <th>2</th>\n",
       "      <td>San Marino</td>\n",
       "      <td>0.248485</td>\n",
       "    </tr>\n",
       "    <tr>\n",
       "      <th>3</th>\n",
       "      <td>Monaco</td>\n",
       "      <td>0.105020</td>\n",
       "    </tr>\n",
       "    <tr>\n",
       "      <th>4</th>\n",
       "      <td>Liechtenstein</td>\n",
       "      <td>0.077189</td>\n",
       "    </tr>\n",
       "    <tr>\n",
       "      <th>5</th>\n",
       "      <td>Marshall Islands</td>\n",
       "      <td>0.067273</td>\n",
       "    </tr>\n",
       "    <tr>\n",
       "      <th>6</th>\n",
       "      <td>Iceland</td>\n",
       "      <td>0.062268</td>\n",
       "    </tr>\n",
       "    <tr>\n",
       "      <th>7</th>\n",
       "      <td>Tonga</td>\n",
       "      <td>0.060987</td>\n",
       "    </tr>\n",
       "    <tr>\n",
       "      <th>8</th>\n",
       "      <td>Andorra</td>\n",
       "      <td>0.043590</td>\n",
       "    </tr>\n",
       "    <tr>\n",
       "      <th>9</th>\n",
       "      <td>Federated States of Micronesia</td>\n",
       "      <td>0.036893</td>\n",
       "    </tr>\n",
       "  </tbody>\n",
       "</table>\n",
       "</div>"
      ],
      "text/plain": [
       "                          country  articles_per_population\n",
       "0                           Nauru                 0.488029\n",
       "1                          Tuvalu                 0.466102\n",
       "2                      San Marino                 0.248485\n",
       "3                          Monaco                 0.105020\n",
       "4                   Liechtenstein                 0.077189\n",
       "5                Marshall Islands                 0.067273\n",
       "6                         Iceland                 0.062268\n",
       "7                           Tonga                 0.060987\n",
       "8                         Andorra                 0.043590\n",
       "9  Federated States of Micronesia                 0.036893"
      ]
     },
     "execution_count": 11,
     "metadata": {},
     "output_type": "execute_result"
    }
   ],
   "source": [
    "viz1"
   ]
  },
  {
   "cell_type": "markdown",
   "metadata": {},
   "source": [
    "#### 10 lowest-ranked countries in terms of number of politician articles as a proportion of country population"
   ]
  },
  {
   "cell_type": "code",
   "execution_count": 12,
   "metadata": {},
   "outputs": [
    {
     "data": {
      "text/html": [
       "<div>\n",
       "<table border=\"1\" class=\"dataframe\">\n",
       "  <thead>\n",
       "    <tr style=\"text-align: right;\">\n",
       "      <th></th>\n",
       "      <th>country</th>\n",
       "      <th>articles_per_population</th>\n",
       "    </tr>\n",
       "  </thead>\n",
       "  <tbody>\n",
       "    <tr>\n",
       "      <th>0</th>\n",
       "      <td>India</td>\n",
       "      <td>0.000075</td>\n",
       "    </tr>\n",
       "    <tr>\n",
       "      <th>1</th>\n",
       "      <td>China</td>\n",
       "      <td>0.000083</td>\n",
       "    </tr>\n",
       "    <tr>\n",
       "      <th>2</th>\n",
       "      <td>Indonesia</td>\n",
       "      <td>0.000084</td>\n",
       "    </tr>\n",
       "    <tr>\n",
       "      <th>3</th>\n",
       "      <td>Uzbekistan</td>\n",
       "      <td>0.000093</td>\n",
       "    </tr>\n",
       "    <tr>\n",
       "      <th>4</th>\n",
       "      <td>Ethiopia</td>\n",
       "      <td>0.000107</td>\n",
       "    </tr>\n",
       "    <tr>\n",
       "      <th>5</th>\n",
       "      <td>Korea, North</td>\n",
       "      <td>0.000156</td>\n",
       "    </tr>\n",
       "    <tr>\n",
       "      <th>6</th>\n",
       "      <td>Zambia</td>\n",
       "      <td>0.000168</td>\n",
       "    </tr>\n",
       "    <tr>\n",
       "      <th>7</th>\n",
       "      <td>Thailand</td>\n",
       "      <td>0.000172</td>\n",
       "    </tr>\n",
       "    <tr>\n",
       "      <th>8</th>\n",
       "      <td>Congo, Dem. Rep. of</td>\n",
       "      <td>0.000194</td>\n",
       "    </tr>\n",
       "    <tr>\n",
       "      <th>9</th>\n",
       "      <td>Bangladesh</td>\n",
       "      <td>0.000202</td>\n",
       "    </tr>\n",
       "  </tbody>\n",
       "</table>\n",
       "</div>"
      ],
      "text/plain": [
       "               country  articles_per_population\n",
       "0                India                 0.000075\n",
       "1                China                 0.000083\n",
       "2            Indonesia                 0.000084\n",
       "3           Uzbekistan                 0.000093\n",
       "4             Ethiopia                 0.000107\n",
       "5         Korea, North                 0.000156\n",
       "6               Zambia                 0.000168\n",
       "7             Thailand                 0.000172\n",
       "8  Congo, Dem. Rep. of                 0.000194\n",
       "9           Bangladesh                 0.000202"
      ]
     },
     "execution_count": 12,
     "metadata": {},
     "output_type": "execute_result"
    }
   ],
   "source": [
    "viz2"
   ]
  },
  {
   "cell_type": "markdown",
   "metadata": {},
   "source": [
    "#### 10 highest-ranked countries in terms of number of high-quality (GA/FA) articles as a proportion of all articles about politicians from that country"
   ]
  },
  {
   "cell_type": "code",
   "execution_count": 13,
   "metadata": {},
   "outputs": [
    {
     "data": {
      "text/html": [
       "<div>\n",
       "<table border=\"1\" class=\"dataframe\">\n",
       "  <thead>\n",
       "    <tr style=\"text-align: right;\">\n",
       "      <th></th>\n",
       "      <th>country</th>\n",
       "      <th>percentage_hq_articles</th>\n",
       "    </tr>\n",
       "  </thead>\n",
       "  <tbody>\n",
       "    <tr>\n",
       "      <th>0</th>\n",
       "      <td>Korea, North</td>\n",
       "      <td>23.076923</td>\n",
       "    </tr>\n",
       "    <tr>\n",
       "      <th>1</th>\n",
       "      <td>Romania</td>\n",
       "      <td>12.931034</td>\n",
       "    </tr>\n",
       "    <tr>\n",
       "      <th>2</th>\n",
       "      <td>Saudi Arabia</td>\n",
       "      <td>12.605042</td>\n",
       "    </tr>\n",
       "    <tr>\n",
       "      <th>3</th>\n",
       "      <td>Central African Republic</td>\n",
       "      <td>11.764706</td>\n",
       "    </tr>\n",
       "    <tr>\n",
       "      <th>4</th>\n",
       "      <td>Qatar</td>\n",
       "      <td>9.803922</td>\n",
       "    </tr>\n",
       "    <tr>\n",
       "      <th>5</th>\n",
       "      <td>Guinea-Bissau</td>\n",
       "      <td>9.523810</td>\n",
       "    </tr>\n",
       "    <tr>\n",
       "      <th>6</th>\n",
       "      <td>Vietnam</td>\n",
       "      <td>9.424084</td>\n",
       "    </tr>\n",
       "    <tr>\n",
       "      <th>7</th>\n",
       "      <td>Bhutan</td>\n",
       "      <td>9.090909</td>\n",
       "    </tr>\n",
       "    <tr>\n",
       "      <th>8</th>\n",
       "      <td>Ireland</td>\n",
       "      <td>8.136483</td>\n",
       "    </tr>\n",
       "    <tr>\n",
       "      <th>9</th>\n",
       "      <td>United States</td>\n",
       "      <td>7.832423</td>\n",
       "    </tr>\n",
       "  </tbody>\n",
       "</table>\n",
       "</div>"
      ],
      "text/plain": [
       "                    country  percentage_hq_articles\n",
       "0              Korea, North               23.076923\n",
       "1                   Romania               12.931034\n",
       "2              Saudi Arabia               12.605042\n",
       "3  Central African Republic               11.764706\n",
       "4                     Qatar                9.803922\n",
       "5             Guinea-Bissau                9.523810\n",
       "6                   Vietnam                9.424084\n",
       "7                    Bhutan                9.090909\n",
       "8                   Ireland                8.136483\n",
       "9             United States                7.832423"
      ]
     },
     "execution_count": 13,
     "metadata": {},
     "output_type": "execute_result"
    }
   ],
   "source": [
    "viz3"
   ]
  },
  {
   "cell_type": "markdown",
   "metadata": {},
   "source": [
    "#### 10 lowest-ranked countries in terms of number of GA and FA-quality articles as a proportion of all articles about politicians from that country"
   ]
  },
  {
   "cell_type": "code",
   "execution_count": 14,
   "metadata": {},
   "outputs": [
    {
     "data": {
      "text/html": [
       "<div>\n",
       "<table border=\"1\" class=\"dataframe\">\n",
       "  <thead>\n",
       "    <tr style=\"text-align: right;\">\n",
       "      <th></th>\n",
       "      <th>country</th>\n",
       "      <th>percentage_hq_articles</th>\n",
       "    </tr>\n",
       "  </thead>\n",
       "  <tbody>\n",
       "    <tr>\n",
       "      <th>0</th>\n",
       "      <td>Andorra</td>\n",
       "      <td>0.0</td>\n",
       "    </tr>\n",
       "    <tr>\n",
       "      <th>1</th>\n",
       "      <td>Antigua and Barbuda</td>\n",
       "      <td>0.0</td>\n",
       "    </tr>\n",
       "    <tr>\n",
       "      <th>2</th>\n",
       "      <td>Bahamas</td>\n",
       "      <td>0.0</td>\n",
       "    </tr>\n",
       "    <tr>\n",
       "      <th>3</th>\n",
       "      <td>Bahrain</td>\n",
       "      <td>0.0</td>\n",
       "    </tr>\n",
       "    <tr>\n",
       "      <th>4</th>\n",
       "      <td>Barbados</td>\n",
       "      <td>0.0</td>\n",
       "    </tr>\n",
       "    <tr>\n",
       "      <th>5</th>\n",
       "      <td>Belgium</td>\n",
       "      <td>0.0</td>\n",
       "    </tr>\n",
       "    <tr>\n",
       "      <th>6</th>\n",
       "      <td>Belize</td>\n",
       "      <td>0.0</td>\n",
       "    </tr>\n",
       "    <tr>\n",
       "      <th>7</th>\n",
       "      <td>Burundi</td>\n",
       "      <td>0.0</td>\n",
       "    </tr>\n",
       "    <tr>\n",
       "      <th>8</th>\n",
       "      <td>Cape Verde</td>\n",
       "      <td>0.0</td>\n",
       "    </tr>\n",
       "    <tr>\n",
       "      <th>9</th>\n",
       "      <td>Comoros</td>\n",
       "      <td>0.0</td>\n",
       "    </tr>\n",
       "    <tr>\n",
       "      <th>10</th>\n",
       "      <td>Djibouti</td>\n",
       "      <td>0.0</td>\n",
       "    </tr>\n",
       "    <tr>\n",
       "      <th>11</th>\n",
       "      <td>Dominica</td>\n",
       "      <td>0.0</td>\n",
       "    </tr>\n",
       "    <tr>\n",
       "      <th>12</th>\n",
       "      <td>Eritrea</td>\n",
       "      <td>0.0</td>\n",
       "    </tr>\n",
       "    <tr>\n",
       "      <th>13</th>\n",
       "      <td>Federated States of Micronesia</td>\n",
       "      <td>0.0</td>\n",
       "    </tr>\n",
       "    <tr>\n",
       "      <th>14</th>\n",
       "      <td>French Guiana</td>\n",
       "      <td>0.0</td>\n",
       "    </tr>\n",
       "    <tr>\n",
       "      <th>15</th>\n",
       "      <td>Guadeloupe</td>\n",
       "      <td>0.0</td>\n",
       "    </tr>\n",
       "    <tr>\n",
       "      <th>16</th>\n",
       "      <td>Guyana</td>\n",
       "      <td>0.0</td>\n",
       "    </tr>\n",
       "    <tr>\n",
       "      <th>17</th>\n",
       "      <td>Kazakhstan</td>\n",
       "      <td>0.0</td>\n",
       "    </tr>\n",
       "    <tr>\n",
       "      <th>18</th>\n",
       "      <td>Kiribati</td>\n",
       "      <td>0.0</td>\n",
       "    </tr>\n",
       "    <tr>\n",
       "      <th>19</th>\n",
       "      <td>Lesotho</td>\n",
       "      <td>0.0</td>\n",
       "    </tr>\n",
       "    <tr>\n",
       "      <th>20</th>\n",
       "      <td>Liechtenstein</td>\n",
       "      <td>0.0</td>\n",
       "    </tr>\n",
       "    <tr>\n",
       "      <th>21</th>\n",
       "      <td>Macedonia</td>\n",
       "      <td>0.0</td>\n",
       "    </tr>\n",
       "    <tr>\n",
       "      <th>22</th>\n",
       "      <td>Marshall Islands</td>\n",
       "      <td>0.0</td>\n",
       "    </tr>\n",
       "    <tr>\n",
       "      <th>23</th>\n",
       "      <td>Monaco</td>\n",
       "      <td>0.0</td>\n",
       "    </tr>\n",
       "    <tr>\n",
       "      <th>24</th>\n",
       "      <td>Mozambique</td>\n",
       "      <td>0.0</td>\n",
       "    </tr>\n",
       "    <tr>\n",
       "      <th>25</th>\n",
       "      <td>Nauru</td>\n",
       "      <td>0.0</td>\n",
       "    </tr>\n",
       "    <tr>\n",
       "      <th>26</th>\n",
       "      <td>Nepal</td>\n",
       "      <td>0.0</td>\n",
       "    </tr>\n",
       "    <tr>\n",
       "      <th>27</th>\n",
       "      <td>San Marino</td>\n",
       "      <td>0.0</td>\n",
       "    </tr>\n",
       "    <tr>\n",
       "      <th>28</th>\n",
       "      <td>Sao Tome and Principe</td>\n",
       "      <td>0.0</td>\n",
       "    </tr>\n",
       "    <tr>\n",
       "      <th>29</th>\n",
       "      <td>Seychelles</td>\n",
       "      <td>0.0</td>\n",
       "    </tr>\n",
       "    <tr>\n",
       "      <th>30</th>\n",
       "      <td>Solomon Islands</td>\n",
       "      <td>0.0</td>\n",
       "    </tr>\n",
       "    <tr>\n",
       "      <th>31</th>\n",
       "      <td>Suriname</td>\n",
       "      <td>0.0</td>\n",
       "    </tr>\n",
       "    <tr>\n",
       "      <th>32</th>\n",
       "      <td>Swaziland</td>\n",
       "      <td>0.0</td>\n",
       "    </tr>\n",
       "    <tr>\n",
       "      <th>33</th>\n",
       "      <td>Switzerland</td>\n",
       "      <td>0.0</td>\n",
       "    </tr>\n",
       "    <tr>\n",
       "      <th>34</th>\n",
       "      <td>Tajikistan</td>\n",
       "      <td>0.0</td>\n",
       "    </tr>\n",
       "    <tr>\n",
       "      <th>35</th>\n",
       "      <td>Tonga</td>\n",
       "      <td>0.0</td>\n",
       "    </tr>\n",
       "    <tr>\n",
       "      <th>36</th>\n",
       "      <td>Tunisia</td>\n",
       "      <td>0.0</td>\n",
       "    </tr>\n",
       "    <tr>\n",
       "      <th>37</th>\n",
       "      <td>Turkmenistan</td>\n",
       "      <td>0.0</td>\n",
       "    </tr>\n",
       "    <tr>\n",
       "      <th>38</th>\n",
       "      <td>Zambia</td>\n",
       "      <td>0.0</td>\n",
       "    </tr>\n",
       "  </tbody>\n",
       "</table>\n",
       "</div>"
      ],
      "text/plain": [
       "                           country  percentage_hq_articles\n",
       "0                          Andorra                     0.0\n",
       "1              Antigua and Barbuda                     0.0\n",
       "2                          Bahamas                     0.0\n",
       "3                          Bahrain                     0.0\n",
       "4                         Barbados                     0.0\n",
       "5                          Belgium                     0.0\n",
       "6                           Belize                     0.0\n",
       "7                          Burundi                     0.0\n",
       "8                       Cape Verde                     0.0\n",
       "9                          Comoros                     0.0\n",
       "10                        Djibouti                     0.0\n",
       "11                        Dominica                     0.0\n",
       "12                         Eritrea                     0.0\n",
       "13  Federated States of Micronesia                     0.0\n",
       "14                   French Guiana                     0.0\n",
       "15                      Guadeloupe                     0.0\n",
       "16                          Guyana                     0.0\n",
       "17                      Kazakhstan                     0.0\n",
       "18                        Kiribati                     0.0\n",
       "19                         Lesotho                     0.0\n",
       "20                   Liechtenstein                     0.0\n",
       "21                       Macedonia                     0.0\n",
       "22                Marshall Islands                     0.0\n",
       "23                          Monaco                     0.0\n",
       "24                      Mozambique                     0.0\n",
       "25                           Nauru                     0.0\n",
       "26                           Nepal                     0.0\n",
       "27                      San Marino                     0.0\n",
       "28           Sao Tome and Principe                     0.0\n",
       "29                      Seychelles                     0.0\n",
       "30                 Solomon Islands                     0.0\n",
       "31                        Suriname                     0.0\n",
       "32                       Swaziland                     0.0\n",
       "33                     Switzerland                     0.0\n",
       "34                      Tajikistan                     0.0\n",
       "35                           Tonga                     0.0\n",
       "36                         Tunisia                     0.0\n",
       "37                    Turkmenistan                     0.0\n",
       "38                          Zambia                     0.0"
      ]
     },
     "execution_count": 14,
     "metadata": {},
     "output_type": "execute_result"
    }
   ],
   "source": [
    "viz4"
   ]
  },
  {
   "cell_type": "markdown",
   "metadata": {},
   "source": [
    "### Reflection\n"
   ]
  }
 ],
 "metadata": {
  "kernelspec": {
   "display_name": "Python 3",
   "language": "python",
   "name": "python3"
  },
  "language_info": {
   "codemirror_mode": {
    "name": "ipython",
    "version": 3
   },
   "file_extension": ".py",
   "mimetype": "text/x-python",
   "name": "python",
   "nbconvert_exporter": "python",
   "pygments_lexer": "ipython3",
   "version": "3.5.2"
  }
 },
 "nbformat": 4,
 "nbformat_minor": 2
}
